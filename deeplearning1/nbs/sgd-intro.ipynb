{
 "cells": [
  {
   "cell_type": "markdown",
   "metadata": {
    "toc": "true"
   },
   "source": [
    "# Table of Contents\n",
    " <p>"
   ]
  },
  {
   "cell_type": "code",
   "execution_count": 1,
   "metadata": {
    "collapsed": true
   },
   "outputs": [],
   "source": [
    "%matplotlib inline\n",
    "import math,sys,os,numpy as np\n",
    "from numpy.random import random\n",
    "from matplotlib import pyplot as plt, rcParams, animation, rc\n",
    "from __future__ import print_function, division\n",
    "from ipywidgets import interact, interactive, fixed\n",
    "from ipywidgets.widgets import *\n",
    "rc('animation', html='html5')\n",
    "rcParams['figure.figsize'] = 3, 3\n",
    "%precision 4\n",
    "np.set_printoptions(precision=4, linewidth=100)"
   ]
  },
  {
   "cell_type": "code",
   "execution_count": 2,
   "metadata": {
    "collapsed": true
   },
   "outputs": [],
   "source": [
    "def lin(a,b,x): return a*x+b"
   ]
  },
  {
   "cell_type": "code",
   "execution_count": 3,
   "metadata": {
    "collapsed": true
   },
   "outputs": [],
   "source": [
    "a=3.\n",
    "b=8."
   ]
  },
  {
   "cell_type": "code",
   "execution_count": 4,
   "metadata": {
    "collapsed": true
   },
   "outputs": [],
   "source": [
    "n=30\n",
    "x = random(n)\n",
    "y = lin(a,b,x)"
   ]
  },
  {
   "cell_type": "code",
   "execution_count": 5,
   "metadata": {
    "collapsed": false
   },
   "outputs": [
    {
     "data": {
      "text/plain": [
       "array([ 0.7052,  0.0025,  0.158 ,  0.3381,  0.502 ,  0.8104,  0.2865,  0.9659,  0.5604,  0.2137,\n",
       "        0.9441,  0.389 ,  0.3644,  0.043 ,  0.1399,  0.5159,  0.8533,  0.2039,  0.1287,  0.8519,\n",
       "        0.3218,  0.6723,  0.1946,  0.7799,  0.772 ,  0.3438,  0.9174,  0.4169,  0.1557,  0.1918])"
      ]
     },
     "execution_count": 5,
     "metadata": {},
     "output_type": "execute_result"
    }
   ],
   "source": [
    "x"
   ]
  },
  {
   "cell_type": "code",
   "execution_count": 6,
   "metadata": {
    "collapsed": false
   },
   "outputs": [
    {
     "data": {
      "text/plain": [
       "array([ 10.1157,   8.0076,   8.474 ,   9.0142,   9.5059,  10.4311,   8.8596,  10.8978,   9.6813,\n",
       "         8.6411,  10.8323,   9.167 ,   9.0933,   8.1291,   8.4198,   9.5477,  10.56  ,   8.6118,\n",
       "         8.386 ,  10.5556,   8.9654,  10.017 ,   8.5838,  10.3397,  10.3159,   9.0313,  10.7523,\n",
       "         9.2508,   8.467 ,   8.5755])"
      ]
     },
     "execution_count": 6,
     "metadata": {},
     "output_type": "execute_result"
    }
   ],
   "source": [
    "y"
   ]
  },
  {
   "cell_type": "code",
   "execution_count": 7,
   "metadata": {
    "collapsed": false
   },
   "outputs": [
    {
     "data": {
      "text/plain": [
       "<matplotlib.collections.PathCollection at 0x7f9830061650>"
      ]
     },
     "execution_count": 7,
     "metadata": {},
     "output_type": "execute_result"
    },
    {
     "data": {
      "image/png": "[encoded data removed]",
      "text/plain": [
       "<matplotlib.figure.Figure at 0x7f9854123850>"
      ]
     },
     "metadata": {},
     "output_type": "display_data"
    }
   ],
   "source": [
    "plt.scatter(x,y)"
   ]
  },
  {
   "cell_type": "code",
   "execution_count": 8,
   "metadata": {
    "collapsed": true
   },
   "outputs": [],
   "source": [
    "def sse(y,y_pred): return ((y-y_pred)**2).sum()\n",
    "def loss(y,a,b,x): return sse(y, lin(a,b,x))\n",
    "def avg_loss(y,a,b,x): return np.sqrt(loss(y,a,b,x)/n)"
   ]
  },
  {
   "cell_type": "code",
   "execution_count": 9,
   "metadata": {
    "collapsed": false
   },
   "outputs": [
    {
     "data": {
      "text/plain": [
       "8.9104"
      ]
     },
     "execution_count": 9,
     "metadata": {},
     "output_type": "execute_result"
    }
   ],
   "source": [
    "a_guess=-1.\n",
    "b_guess=1.\n",
    "avg_loss(y, a_guess, b_guess, x)"
   ]
  },
  {
   "cell_type": "code",
   "execution_count": 10,
   "metadata": {
    "collapsed": true
   },
   "outputs": [],
   "source": [
    "lr=0.01\n",
    "# d[(y-(a*x+b))**2,b] = 2 (b + a x - y)      = 2 (y_pred - y)\n",
    "# d[(y-(a*x+b))**2,a] = 2 x (b + a x - y)    = x * dy/db"
   ]
  },
  {
   "cell_type": "code",
   "execution_count": 11,
   "metadata": {
    "collapsed": false
   },
   "outputs": [],
   "source": [
    "def upd():\n",
    "    global a_guess, b_guess\n",
    "    y_pred = lin(a_guess, b_guess, x)\n",
    "    dydb = 2 * (y_pred - y)\n",
    "    dyda = x*dydb\n",
    "    a_guess -= lr*dyda.mean()\n",
    "    b_guess -= lr*dydb.mean()"
   ]
  },
  {
   "cell_type": "code",
   "execution_count": 12,
   "metadata": {
    "collapsed": false
   },
   "outputs": [
    {
     "data": {
      "text/html": [
       "<video width=\"500.0\" height=\"400.0\" controls autoplay loop>\n",
       "  <source type=\"video/mp4\" src=\"data:video/mp4;base64,AAAAHGZ0eXBNNFYgAAACAGlzb21pc28yYXZjMQAAAAhmcmVlAABWs21kYXQAAAKuBgX//6rcRem9\n",
       "5tlIt5Ys2CDZI+7veDI2NCAtIGNvcmUgMTQ4IHIyNjQzIDVjNjU3MDQgLSBILjI2NC9NUEVHLTQg\n",
       "QVZDIGNvZGVjIC0gQ29weWxlZnQgMjAwMy0yMDE1IC0gaHR0cDovL3d3dy52aWRlb2xhbi5vcmcv\n",
       "eDI2NC5odG1sIC0gb3B0aW9uczogY2FiYWM9MSByZWY9MyBkZWJsb2NrPTE6MDowIGFuYWx5c2U9\n",
       "MHgzOjB4MTEzIG1lPWhleCBzdWJtZT03IHBzeT0xIHBzeV9yZD0xLjAwOjAuMDAgbWl4ZWRfcmVm\n",
       "PTEgbWVfcmFuZ2U9MTYgY2hyb21hX21lPTEgdHJlbGxpcz0xIDh4OGRjdD0xIGNxbT0wIGRlYWR6\n",
       "b25lPTIxLDExIGZhc3RfcHNraXA9MSBjaHJvbWFfcXBfb2Zmc2V0PS0yIHRocmVhZHM9NiBsb29r\n",
       "YWhlYWRfdGhyZWFkcz0xIHNsaWNlZF90aHJlYWRzPTAgbnI9MCBkZWNpbWF0ZT0xIGludGVybGFj\n",
       "ZWQ9MCBibHVyYXlfY29tcGF0PTAgY29uc3RyYWluZWRfaW50cmE9MCBiZnJhbWVzPTMgYl9weXJh\n",
       "bWlkPTIgYl9hZGFwdD0xIGJfYmlhcz0wIGRpcmVjdD0xIHdlaWdodGI9MSBvcGVuX2dvcD0wIHdl\n",
       "aWdodHA9MiBrZXlpbnQ9MjUwIGtleWludF9taW49MTAgc2NlbmVjdXQ9NDAgaW50cmFfcmVmcmVz\n",
       "aD0wIHJjX2xvb2thaGVhZD00MCByYz1jcmYgbWJ0cmVlPTEgY3JmPTIzLjAgcWNvbXA9MC42MCBx\n",
       "cG1pbj0wIHFwbWF4PTY5IHFwc3RlcD00IGlwX3JhdGlvPTEuNDAgYXE9MToxLjAwAIAAABScZYiE\n",
       "AD///vdonwKbWkN6gOSVxSXbT4H/q2dwfI/pAwAAAwAAAwAkAvzHv6EHQzQgAABRkkpUkmIiRmAh\n",
       "sP+ebxUt65SzxgV5BtAtfEw+/RTgAd48X43c8vDOKyJ16Rb4I57ikspKAdLwEk640y9hTBSnOt2G\n",
       "9BfCLxxHiE8R2vxbFfhlHsSYn/lgrj+csSHqPXWFIiuVSUakG23Sd4x/QuzaiGTNOsTcfHtp1c0F\n",
       "8d5p56QHO2NCvcPN3PdVxHR9zDztCTRMa1cvsz0Wia9wbxWyPEkl1uYb9aBB4/tU5poFCuvHShco\n",
       "3a7c7om17M/ZBYmhyGs/8BlPYlj+qRFYdaSTehJPmDjiNfYwYYgZ0OgKg0IAb4umbOLxknLQxTYF\n",
       "sSqVunUY+4X0GOrZsIi4nhgefZFUZzuxtJYaqN+zLpU7mwtjyb6nqWJAiTgPxV1llZ0kBl6id5mo\n",
       "A9/8l5+5eBgRhPqanzIWhiXlS4fjCKvL64NEn9DfqXGhLX6P/joX9XVqsAaRSecfWtb4QNGayaMw\n",
       "eHbpNVCE8fWdeD2JhNhKfx9ynuuvSBlvyz95nVr21+w22NEXoUpgf6ZaT+sHMAAac9U5VaOqvVj0\n",
       "4rd0Je3hPLj9Cf2rkvf+ygqfySONKLwaa1zwzoFe2EXNPKTqdUXfI+1LbWLUhjzes0x+9SsRzviX\n",
       "FFK90ceTTttGhrBrdwhpj9mcsoA6X5XmJW2Q5tML/2OZIkhhy9HdyAS9E+5bpOiFsUgn4tc+QEU2\n",
       "NbPsrKLZ9TytW8JnsqoSWF9r8foBAoeSuaepW/dOwi02gWeYLMbmfuMhxop02z2Fq3EvQPitB2Kg\n",
       "dqq1xmp7N1kEm7wExUyuADz/1LtGOy9bEVEDqmcHn30rRsdMtFzHBruvypbU7UkvMFs6PQpIc2c+\n",
       "PSMNE11Lv3t5v+3X5L+SNGQKzYR1LXEjuxOnKJstNWHbg0axET0FczFLl+FY05uDp25KJs6NDiZ7\n",
       "lrjA3CjaFdcNFEAbCA9rQXVz7/ASfgp9eaMSA6wV9jjxgoMe5qMX0/SUCsSnVHdgRvQl6AHWiOlV\n",
       "rQeiIgbRpB31hl7W8Dz7pghrlnhi8qSWXwZ+Jntb3TX6XSrmKRJKEX28ot62IINGJo1Bek4aJRFv\n",
       "5jPgtOgt29WsBf69bSHrZ5zTP8onIIVfOKDxONsL8m0aDAA+ToaI8NujHb3u00uM9PVakQS5m8jH\n",
       "/GlVGk3RgGwz7LccgkjzblmkZ9QcSiqcwn4kTrjmXQ8WLmdBMGkurnmkTJND1Binld3hfmq47wJs\n",
       "5kEZg9eaUPR68geARvVIN65ME6hDzSP0uvDQar/UpqRwSNN4zm6JtxRHhok+TXB3JcQF/WeuizMD\n",
       "LCBkHD9j42A7aGGdcoBbXc0b14VMxi7yHhqkxL+C6JM6WFGYYyUWiyETT8EKOoGfju5CCMMsMEsx\n",
       "JpQd75tfsNYV2z+e5dK3UyDu0QAwwIGzAjnuhGDYDfKjRnIe69rw5AtnBwuoL6Ekbk2L2uTAWyuY\n",
       "GGYRsUphnqA32YCUyBUSCUBl+P3qp0uuiVR42PyBN8IwOlQznur1xvdJRQ9oU91RoCdI9xpqIGfE\n",
       "2mhBZOnzOh9lBpPaOk+ByHuAHLAlmv32Sn4OPZ5fBkxgKJgb4Ryzgh9RNmvSo7oIr+9oX1Olh3GQ\n",
       "x8XWxYTcQ6AYmDcm1NaHUqpjDJRo3hYb20QpX1ZzilDhKLNgwIr97vdXGv+zlgws0ftj1tS3TRy+\n",
       "JUnZoNrYEPvBPlyB07xC0O6dob3pjvEIyf4qGv4ictrhvU9uGSG7Hx2oGIGBhw5ddDsRMj7g6v56\n",
       "DpRmm3WL8MAl6atsk/jnsrXr9Vs8icpD+GPA6RobU+Dw05WeFBSrhhyTFQpZGZsovu07GBeJZjO3\n",
       "X4iq7ocjJDY+uNs7ptX9ih5TMwfYd2+1nbfM40dFpY7zPHva/P9i++vks8hJMWPggzatnBhZ8KhH\n",
       "gM6cz4uD/lz7iZvXmqcFWGmYzSd+SyKPStbfcqeDdmCI7ZzoD/LgB56M2s7LBzugshdEVaPNcLui\n",
       "CDXUcPjbnun3eQGBXdHgsr4C1ZWGbpuQ5AJ8VDnAv5UCvBZFCsoxFaOd9b6BmqtGU4P8xDdTA25f\n",
       "bjOIV4U3hN8580onATsdLwr/pYmP4IZQ+YBYOAB5cGn84IeehbhKaDbnVQ29k7v8MtKNzdF276Gu\n",
       "gPf0o4Dedd6RWeju1KvvHEL+eRKr2aOvoMHTCYF1SrPOIN3I/CMVlYw2N2MXe44v0tYDEwAwT6/k\n",
       "GQqGwlVsTf70EpUZP9tOvHQc55QH4mhGwydN3PwoEe3VpIPUPPgeLljeDHBZOFPoK6x+A+ncMtLG\n",
       "VQd/hSfRyvsx3NuPlxm76ICBF5iFAQ0rFx2atO1MmR7+8QN0Bi2wHfQwPeSrqo0dCUjrpP2WSfmH\n",
       "Qkju7v1Ls9MX1mnO9HRGYW6qIz5OhBwPhKU5OLXQSuYpw9QXXtlRbgtrpGgE+Q5UG6hQfS8xGnyp\n",
       "RGbW7wAPFbuCB182oV2EWQRELNBUAgMgxLVOk5NOF3dfgjKfvSfcKIQ5jOE3FIQnkxZxvcECvXml\n",
       "UEocqBambgwuytoFlRk9norIe+rs4XzoZpwY2Hht3s32+A/QMuk/IdYdBqCgAJCASQ/I98mwNcBO\n",
       "ucwq1mQl3pECqMT+NjZief3SPWMl6Cf63ZN1UGfSxGZhqpVlQyr0IYQss3rPVQJqo+v6XBb66eYx\n",
       "9bokuBmmvSxVw4Dol/oCLaB+CZZSVsRGZCyTM16PaxkycEVXfCiTqa4FRKQgsEhpLSsDoE1eBp3s\n",
       "V+SoREyNXq/h5rARVtBBo9xbxyEpTbFGP/rzLkxr9F6VRpZz3J9/N/WgJAeklUW1Jn2VIDHVsYJq\n",
       "Or19zOpOiHF+mVSI+YnxCoAPI6tDTyL4xLaWRjWR2b6QpILJ5XljaSOKrxcf4pcUB7z+fjk88tl/\n",
       "KPGLPt3zz8Fz1DMixuqGe+SFfSPaxUgBwE9vOREL/ZcI7o6XjLLdZpsIO178oQGWQCc7asL6kAY+\n",
       "RiWth4i4Wg+6D/gPxJOvpwrGS+TPv8znTJlOm+RMH1bY6QZlN5E9WebYRgeLQHvTWlzO0tiBJT/z\n",
       "p3Cqh59OslyEr+FweMfd5PUAHkpgHeSkSlhkFn+qKAry+ksvkWrgdcvgr1tRUGI61fiN6rCRIbGu\n",
       "F/5E639ksdZGYqqZCFCwIJ3jzUEDC4iq9/7IvQFX0TcSXJ57k7dKXqPcxB/HjREXSVRd0orI+Z7S\n",
       "shqX0cVvBHamwY4+NlojM8Pk5/g4gQnC9kQ/58Ed6QACSgkc6CFNG4U8FY1VAFKqp4InDY5iGX52\n",
       "DyK+5c48Df+oNu9dCD5k+ZaF49gFtGc6oN+4VoH6Qa/DqxhVfloC281QdHptBGOUoGBeRslET2Hl\n",
       "CQAl4/MfmUzwOP5mBB+BT7LRTOEfXcmYXuETckC2gZsI8kzt40wC9vInDmOo4L6Nfr57QFbiHiMq\n",
       "c3Tre50jrtECDaGhhWKTwZuwzheV9eTdo+PEQ7L8bNwUoPvq3vkP0ujDRw8X2bDJ7ZHWEezesVgK\n",
       "WXbgCudQTBwpJcpiE0XjKfuoHxM8KNKlCAB5uownbFc5j5pVV6W4KaT7zwKNE43oOjgtqSE0iEdc\n",
       "uoAyOvqCCSFg++sbpeNzLedt0WbW7lwz2BnzLweDIuQkEXJAe9olRpOl3CknUExHxih6xsCbANXo\n",
       "WqB6vjDOMmOtsfwAGvTCIlF2uWGj5daNDJt1UMSiRZ6U13QNh3YkVjb9xdqNb9MhMr5/tPyFe4rq\n",
       "y04kUsdPM8OaZtT3ANZz0xZocs6MFXi0eb9ZsLK919OOYLZeedzHIMGwJsH5zKyl7qQYPBQKFu9y\n",
       "o+RZLW6286ji/T836DobhSWavH/jt3XsCnwKIup7MBxlkACUZbqTfLlip1IZeTHhSQH/FUb2JxcS\n",
       "r8TtCketL3evvgBjOEcsBWe7yUWZS0usQp9wDn5puIPY+47fTFUBqCwNn2T7DIoidillDOV9nqXU\n",
       "TknNR0oWomLwZxhngg///IfbkE/9uXAOps+VThHObXorbR//C4H8oS5aeQEYWp98iandpk0g2lAQ\n",
       "FNzsD8gQsF+2et1RI0SAAYgFveHekfwOt6dqLFnmskJgoDwyNA226bcSV9Tg7kt/93wIJ0N3jfjg\n",
       "awLL3zXs0TfXGFjlWPv2RXP2CWOrGGuRPTo8jF7f55JqH1DWhlFaEVvCS2ziNfC0Yf2VDtFKHuwN\n",
       "DYz6jSeHOK/QtZ9HMpIadJQ2gYoOOtEOTlhkuQXovGJvqqxk72NksSV7veu/jJ5BF/VuxMeMi4H6\n",
       "WmYNXPKAHJvPSc2Y0/3lxqGBUBNQrS3mIbeF7xDah0XRbEMS0Tu4BXrfNMLYpK3LeNxt155aWQ+Y\n",
       "GQzMLwJZroIxyMpCX6072CrxaD5WGIXKKEbVn6CH5DL/yllXToVf8uAlTIT0YBSCCj4u+GvhF14I\n",
       "exynl+WxBIsg8LEi05Y7BtvwKoC5pi4glpuBWjb9LaoUzL65us2pzvjsVloVNWH8pdf90k79+rKI\n",
       "GzG3IbdQ9WcZ9U9p1mKCINo/tbuhGZvHLkwA0chkShBB5JaA9JrtoYS453RjonOJZtsttzkbROSl\n",
       "xQl2ZQ8vOLGyf2Z4YBNDgXcGKld7ZdW29VLumfQeWodwD8rm1zombPokj0/llUyeEHTxUwslq3gh\n",
       "5lzj4uNigzgPOW005BqyGD3iCM/UTGBtZ7QO4LQ+FNZqnlpNBO+AUlNTsdrCapxCBKHJafipp5Kj\n",
       "rGMYs0tQe9fuddd2EPgDBndHGV3lWzNNHKJdoNyb5qTvrypD4Gr2FHWDa5gG4CvGPYUu+wXPIkiO\n",
       "IU3YjVxwInxt2LXDBJGK1Xti/YjasHjxCdTadymbj6bLsKxrVHffooicoptxmNoNpEiPGkCDZ1ha\n",
       "IzBkMKck1OIPBTzvxtK/wJog97hGGmAQEwLwwhuSYAZt5cyEbtomd1/HiFYMnnub+eqdqcY7E1nI\n",
       "ISAVpqcL6v+rs9k4cJAAIOg0SuJnXOtR70ZEtt1xPDOG+aiJw8ZstXrN4/XTiVfyjS9ffHZf4Cs6\n",
       "zzMCyAwkWnPJCiAL9KYAoNkH7akVa4ikS+Gm1H7QwULx/QpnBMkTViDYSHDI8BQQNDyFVfFLufhl\n",
       "gqMBYd6brf/98DqKyf8411IvXstA848QDKIRPLhBrvAnVa8v88cazhsP+bbgoLeILdHlZ5+DIjZN\n",
       "sr1Mgwi1VEmsIP8k3Tjq8e2L7NigDpEN4FH6itn4iwOGxmZj1WlCOHJ8H/9BE30HuzKnzE9Jbwnp\n",
       "pLTHRVw/D7880FFpyZ0ouNn83sf4SeDAxDyszXxQEoM4dgq4hCO2+0X7VB9+mCJXqD7Ko3Y3BTdC\n",
       "L4yGF40LTWey8ff/TQ9EQiBJtH3llDtZGRcCir6aMgW7VdegLUo9bjVmZoItbB/G/sva83sgnCNI\n",
       "JL9eDEGkyjyzzVR8pcbY9mME14v3wBBCJCnJ5vB74dUmKVm+duUWB9+keds2eAwHhqLmrc0vUemO\n",
       "J61IdCe22e47yYFgngzwbxC4ODgtOncQJqLO14WQMhLSV7ZeFXKA8L98vcRO27jfSGyMNshEla4P\n",
       "wpzY3xKhWwmj+FV/YXAs9fRcaMqgZP4lM1qK5whMnlDuEETpxzE+RENmIVVpeZ7tdySdIScFV94l\n",
       "7slMQbFhiT9I1GcQ35PUV0R/8PaupLVxIUz5t78mjy2HcaXz3fRERICkETdKR/D3LkuM18Mt8vH4\n",
       "moxCZRnlG8KIN+0Z75MOZkPo2ILB+itwDZthdc28RFi0IuDlqWyxLLUnnq3CbNg2+mBU5kQzlJ92\n",
       "Rdj+kJB64oaiOJfc2mTRbsq7IdKycqdDlhm7ZQsjVemTLD2RLyY7AGRg+pzNXcWGpr9u3/+fdCgq\n",
       "U9I0VO+uRpwb6Gluxlko3nEubAllFlcXC6O2V6ZhzkSP/ECWB/780okhzMe1eey6m6tBTfvS0qsn\n",
       "H+ueqrPcOJNeiiCitfwnoAxw6GKXNRUOi5asNIUkZz0Mhiw+hPaau/U5jn/DrmgXVy7CjlxJ54lo\n",
       "/UHFna9X619pB7fszZ98TaYWMNMBQsOLk251f5ahEJbWEfnOqNzBccGaQyxcjsxE/ezNs7B1AzwG\n",
       "gHq4RrrhCHP0NxAP/Lzm4gQSaYcBXm7q00i06NUudfEjS03RkJ19mPpAn57SvI4xni9Stafy9Hug\n",
       "6NEPGCYI+LwXki98MfDWo/5sSRWSu20OQ5SNH4LfCVo1FwJltHq673ViSgIky7jdHDHTgpeAjI/+\n",
       "VAsFqgcnHIadttSNfrD/CSWyfV8rxZkpuYMBSTWHZuuQW1a65acH3rL6mkRrPm8ZeDO0o/uq/VFC\n",
       "2tLh/876FPCOB3YHfSDWoqatltwjFqs46zu/f8Rdd42fAINCcas0ceSqfWbkEewS3xS31jSrIeaX\n",
       "JmPFQFPkdz4cnKaJPTOotK32G2/LNb5TNVwdEncnsp2lEeFU8My2jIDx7j1TYWWfCFyuWwBVfyoS\n",
       "yZC6RdpjFqiKaFAaRcX+aYpC2coWy/4PmP4BtsvO/tRapmjTy2oCrpf54FJaNsmawRHqbFFjOAMo\n",
       "jb8b9FhBDkAV6gWiJBFS5WjBIaiqAPUxnxEbVIaaXYEFP4/QWezb//jzu9hWe+MeDK8zoKdrXQm2\n",
       "HBnkQ+Hm/jXhKZwHnbdL5eMvh1Ekih9mCt3YrqVKJ5InxMOFX1nas4p3x+b30CPITqdZl7vf/WJs\n",
       "7Vq0XwhYX+0dv2GJVOGmdkXBMejQzx3tivbZ/30BA8SrM7bcNeb9ChOz5s0g2/h/FyuNBLu5om+X\n",
       "ApFdouL2jvuidoD6VbslU1HdflFAt7PTaCtm6twVdF2lr43e43RNr+pjFxB7BvqI5n8UsaVjj3lR\n",
       "s+hvQ7sdYUFGzpGfnyLDEMJ1nGgxCWCb/amSuDQA4rVF8sDb+FDSL6PtAc5+ytPBo7unMzkZrjyZ\n",
       "Jk0KlLMdG7X6AAAQRNgIQNmPL6tLD0olmqYAHHEAAAIjQZohbEP//qmWAHdXy8BBKpO2ChXvfsp9\n",
       "kOtX11l/b/VK/UUYtxk06AA04KX4w29L7y0XQlb/SVDua1YUMru8Uzk6cq0wA9sZJl74SHDgAy52\n",
       "TTvPe3/l0Kee+1G+qF7dn8PLvnXeplCFkCeq8bpU6DeUu1zj3DV/QlOEJWUcx/22LiaYvRGZLtcl\n",
       "Dq4TOInQ/VkksorHXcGoU9KqHi+ReQV1AK2b+FgnfPE7K9JlKCcPztjUHJGQ/GNBRc+9/p47nrSa\n",
       "oxVueQnaV88CkTV0Nkb+MlD050SL3eks2XbEC7z0/J7bA8LSXe4m01Suydy7Er8+/bSj503NmJfF\n",
       "3zVNjHZD0qsIWmJnVuQNA1G5R7zz/oumSd8GnvixsxUrMRFStTrdvs4tZNcRsMh3NOgB3GAK5Wx1\n",
       "zheL7Tig2p9CBM6goFXn8KeucMoWaQWwKN6LyKjQewXU3/evyaTzezggNk/lAo1pKEpYu/WdHpC9\n",
       "/prCR/VyLH+PPi0MrTypVj24yjULQNlMrG3Q6TqJdvuLOCv2OzKkzVSAJn77mUaPV7o0oWzblYOK\n",
       "+rLSZsXgBQpJw+bq9r0OQk+RCI8b1CH0+Gwr6kkbBHFgDXXL1G+Vq8u/NBHo3/w8gkqlSPLRuRXa\n",
       "37wWzFojBAkgAAEvPEAQTYgH9cGJZHgAh5rgY+Nh/5LX/0UUmwNosCXB4xRboe9D7+elOgiONVCB\n",
       "HFVnYKIE1h9xfAAAArBBmkI8IZMphD///qmWAAAVvnNgHgk7azF9C/8IzCw1ESu+Yq0GQmWomB1E\n",
       "aARS7PU3x/cSR1VRLe6xbPmcGPoedEwBZqF0y+JhlvY5Lg6bCW6RC1cpna0aX/+Fh9Eml5laFhfI\n",
       "+UTf8ZUMu4FbVMzpT5UZdotoZ6tzfiBSmtgm1/LsdeQt028aKdkwDMf6t8kcTW4D8shpS3JROU29\n",
       "F1kD4D50QcSGVvq6OlkPoqrk03LAQB55jV6CecMWoJ9NReXP0xvfFP7D6K9IgLLrNvj8yJO7jTNN\n",
       "ay/fZQ8YXPSBfJyG+7Y72V54+6/VSK2tdUOoKCZMPU+gF7K7jDYR0Fs0XKrKiyDjtSJjSjVtmWED\n",
       "ZckejRYcCrR9aADQX2iV8479Af0pN77Gik3TCLaNqSvCuzxFrqTQl1ebYcBp42f5MnJbqGUgBJiQ\n",
       "0H/jerslF4huEuaMkGiuYmLAVM/efabDpBh/Y0ftaiNOAU91JVFDlULxR8vLnqkv70JuRIAgiyqJ\n",
       "AamScAMOSrGnmNNpRVRsvl7bY40/1sK5jJgwtfyA2vZnSf01cpwE6+CgBLXKtdYLVAupQhEHokfx\n",
       "CICcpK+pgKXWj4lWOxciMG3K7VREYVdjs7O65Y3j82icNWAGFBURXNrCcbf6e544QqW4gKTD1Bt5\n",
       "347hUs2scLJT2x4Dd1PGnW60G/iWrbYy8HH285W+yam3eM9qVf1Dyik8n6wbNt+KNwL12PuV7Doi\n",
       "HH2MH1AkrA0uytRIHNPqlAg5Ry3rLkALfQH4bJabQwYe2AdBJzxz8PtyEKJN7k4wBvikxQZxEH/U\n",
       "IkP+NjZKs+ahvMnlFdJZM3nCZFd/LISoCW3ol9r16s9tVscarvNRWcTB9OO7sOkuUe/TUSIT38we\n",
       "OnmXMbRlR8OuOw/+mWAZxTbRAAADckGaY0nhDyZTAh///qmWAABbec2AfHstsL6Tpt/w8Ki1Lsrz\n",
       "uj19N5F9Xe/OaMrC89uExScuow3jWvbOMBL9SV3MnoZOWyXJCaJL5xvn+p/M+H64fWwEGAmsb9aE\n",
       "u9Gj1BLMBB2UxITWf+TVz3u//WrIz+f125QumPGhs8+ZVvd4Y47ttC3NyFXAz4SAkMWXzVyo3Ro2\n",
       "yqMFPOuZhVzmAn7OY6LY+HPvznm5K5yRa5t0In9NGYT8NOEW7piI5fASdtQYLSZs1e6QfwKaUuxu\n",
       "73PxdrpBLEpX20s7GRvSFCpRTXqVNpkSLgu0v5XRAX1qbogMPYpF5s4fN7aMfR+c5moQhCM6hL/i\n",
       "usyK3mQFpny4qTl97SlLP5RYnCS5l7SJAP4zdohODLS5sfTCL4hMgIhel6GqG5fSqK5hwXr3F0Zq\n",
       "u5l77OCGgQqRLnxKgMOXJVgoS3j2BRN3/nXvToBknkwvdSk32q7ojOc/VS2tnFxWYfdNN+NffFr3\n",
       "0Z7QQasU1nx/e2co8yOMEa+LmVtch0eg9mv6cH+mZqNfrjUPmMkcNTBhbIqSZk0gu3UW3rmQHSUu\n",
       "8SSsELDb1BrUEIrz2NO0MfLWg6XeiHDCjKwNeUR+qhcB/Y/4mGAdUoS9dibU9C4ug5hYZrMKTm/9\n",
       "h7pk2JSASWDv1dy5CSV+4ZoPW/t6VbtcHa41DPcLhTNHVAvn1SVWiKkJxoD0qSAYRgz5IvHXT2iL\n",
       "eiEmsXmWhM5TVJ1kRvYatYwSZ5PvKYzcVZuafZIKDvPq7vRZOzL7Z3Ch/T9UE0BsGBByeLcAblzI\n",
       "KcLX8mStNX9WXfA8/i/XSIEA8TL8Ryy8QVx51hHtkohj8XWpgY/+gefhGpN2FeQn5iAovKXPQjkM\n",
       "Ir4JqCFMj0yn6sCmBI/EkqqZzPGg0nvEY3Jc95xRnHwXl8hKZSKiPXX+yEZpdAjNfNidYqoRwgeB\n",
       "fA5ZVQzLieJx/l4qcgxudIRrgWJrspcx74rIfh7081q45kOBYrRSytZ9SPQs8nuNTe1b9H6t54EH\n",
       "mJvAkGlHJ119DJz84lEOXm+h5sI2VYY8MkDysFbPI7WxOSrVQMfBOBS7CnmZ5pqJltDVelZIBmHt\n",
       "tj3EXrkx9DJzwqu8ms3t7Wpj1CAr36nqQKSj3NVSrsDOBUhpalsKbf9VX92fDLADPgAAAmNBmoRJ\n",
       "4Q8mUwIf//6plgAA1EubAPj2W2F9J02/7glxaaIld4hbETTrqSBNE0BWULvhZZVDcGpI4R2duc7+\n",
       "2rs9nzwuvzgzLYJiKaj4ERV3rJ9d3M2ExMw8R5PD4i4e1aF9qp45yenA0qq+XOdZC4aCxJojRs/P\n",
       "skxykTvqu4nVWCX2i4chasfp5AU/XqKLemezDMvV6nCHOGLYiZRsd66bimgfk1zbxb8HkRrFn5zQ\n",
       "otDD66ErJoCXARCWKtHoJkdUjW2Ev68wtTgLiw3Izzqz7ta3/po4/8VJzPakCCkDMxWj8nSl7Ni5\n",
       "CtjgoK0twiIbP3UKRDzMP3xaoB4wPkGlapQ1jvsNVKcJ+fP66sGXUDg5axOHBgoShqdBMoZGXlws\n",
       "GSD2xXRh1MlAKP7eVVeFrYF2MjWr/dxoSsXFJEnnX/bT3n/4hUIlrDEn/awpW0E+7pndse5Nvid9\n",
       "6gl82eAQRykBUpr2/ESjbnoXPhFuz5Wb2Qs9nLo4NgR0vJ5YP6rqjxZbUVNgCvp3/CN2WHVEOMpn\n",
       "EHfdlo3FwkJx5o70i0MpVtATHYo06Asoj7G6Qt3hEowEtyrDqQF1GiYvDF8H3KDd1US7jnh6eMDu\n",
       "mYp8RcaFGmjES7KhMxyu0njOLI0ca+ZdVYH9fODKmam+1roqP+D6A1SXB/a+asNw9COy5hEJRovC\n",
       "CtYQtIfAHDYDJLHxP3xNY14bdEZ+Yuo4vT0LO9Hb2bYn+Sr91DqFrcmJU4i+Y2+R7NbFKrPKVrb3\n",
       "3id7NDmPZ7tlAvyvbcdyob9rBIgObeWeg3BY8axBg/AGQyxiwQAAAgZBmqVJ4Q8mUwIf//6plgAB\n",
       "1P5f/viFmm+q6qLkuUITZAqLZN/uOuDFAIfs8LlffnUxgQjkIpwa9PQYkZxCr9buaAOiMn9r7Fev\n",
       "dqUroUKZihZFlJrB0anHqZOXNPP8yIOdDkktMRR9QzxJhDyeaAuVET2AHnJZ2QSM9MZWtZzqeBua\n",
       "5e3Y0zoHRZiczsDbU0AN/3ZMLRszD6eFWC93F6yAQTEuKzzOZS+Ywvj8elfTNViL8s9b64T0k7bY\n",
       "KGCYdCtELtfH1rNyWNumCcfTKrzyuqP3psexxOtPchOMEvP+ucHad3rE/onZ7XiaX+2FrOzv2xOO\n",
       "8MNdJ+jHdQCix0dfWn0bUge8IJU/Wba1ZFMhkmxKhfZ67XRdTEl5GsZriSGmmTugSgJ5eIB/Nx9b\n",
       "IfI+0qHS6EbJ8DtJh+0iWRmTROPxUmD3mMZr7PDhXx5cr/fo0wqyp4wHAsZtu243/SBlgRg5ZKMu\n",
       "WKe4+u40MnoJWDk057+JjshKpUSxF8tPCZ+BuMJeKyS77bKyp0UlXB35mk595uSCVVdv5JmnyHNW\n",
       "26nMw6a5Fu3/TVnec4ujK+0HS9v/tmYYI62enbWEfjkrkGvAoUl1Gd49eyfuNNXZXrqvxpNq4ft0\n",
       "+dzcokhe1EUBELVIWOT90zSTrq8HleeNuZKSO3DtzLto0bhnKyovRWSvGSQr4QAAAdFBmsZJ4Q8m\n",
       "UwIIf/6qVQABAD5pAOLqe8UXv7jrlZ4tsvBDv5+N9sPr5I1NN0EnwhwC1cFqpZxJCVkd+vpmgMFt\n",
       "Dtic8keuMrQuG/gqTuSHAbNRNIk1aegS5hjY8+sd6hWqexcHqB0OXZdEfEH6MtUeb9wNy8SU8L7/\n",
       "pfFxYvfykJB4h70+2ou6Fs2QgBQdY4OIC85SpJq7HDotdGsHwRz9gqTPe1+YV3EwcePTHUruCb9H\n",
       "tHc43GUPWtktoo9wB2qsFvW3AvDisEtt20Cu2wplttPQy9wDjCvXblZ0f4tvoI56T5X0M9CkdOUX\n",
       "oRrJ1nCGkjxMcfaRL/CYBgVU9vkb8rvXxqXLuEM0XvfhHl2dt+gcE9IrAh3NNt+JqFpL+mf7bOvy\n",
       "PmIdUdGHzjAULgguNCUGVI0J8B1HWU7ei8GLjQ6OADsk2kfVypub53kz1fe+CdK9bqSHpWw14bcI\n",
       "Tkbuk4rDaOePy7ayv4jfHM5Ob9wiyfJml3tByFUmFXPYBA8mp+JWc8Jbvgv6KExB/36gc7lzbcBE\n",
       "We5V6fnqZWY0SPmcw4ydwi11+bWrm1FFVG/XW6C1/mBNn7PNLsJFggKg8ioDxLp+HScX9OxYat80\n",
       "RsEAAAF+QZrnSeEPJlMCCH/+qlUAASg+aQqEq0amqLslBrS7pOfYwckC+fLwVo8R3brD9GFGNVZZ\n",
       "WzCK/pNB/zsffgqdQIenIvLrIzepPIHoP8ugPUNvadRlUda+xxj9dUaPgAvvhif8C2Upf6w+bpk1\n",
       "dIUakDB5aCWQ5xOy5tBstPPvZTDNw5mrEqd9HuXXF1BTDZ33WClPvAcDdVFplsrwfqcwqcmlhSny\n",
       "XVk/5Is3SG8fNyPYUpFQnk7LeGPdwto971/U5mFFlXhAOnewKBIAjNk5XOcLENYzPOHaXdqPE43K\n",
       "maBXWu2koB93QVK4j25/zEJhhqBpSHHivUYWtJQ6A+9fcWosSBJhgFF6RURl2iN6l4WgVmzpDa6M\n",
       "Xi4hdX1SZNIlm0ZL2yJcA6is5Juphvek2GoncKwHP+jzBKdtPmu1yFxTxeE13oy72sZLtZnpLqAV\n",
       "ztciqXy1lxFnoKEMQgMrEGYW4aCVSpDt5uAXA/faKlPeWKkpcRKvAjVUx2vkzQAAAe5BmwhJ4Q8m\n",
       "UwIIf/6qVQACU/5qz5bXLis4XksrmU/yFKu1SoogJ68VpOTtGqwEAHOW8mW/F+fMJsF4XIzVXpEM\n",
       "AWtzD3JTkM2enOinDbJvtM/vMNqEEgCJ9P6AT/b3w8jDs47NhwRiyts408P9N3sVaeLr5w0A/wiw\n",
       "MgoCsz+N+S9Vzv3/SJRtjA1ytQvxKu3PLxT7b5JbUR6uKgGExPFmBAWgOMJn1gSd828SPnRqzsHp\n",
       "hyP4TevO405mSUPxn1I/7BjR5UP1BtgDjm5LnWgfs/tNLb18aW8AuYx+GCZTPjmqWlW1oGLeVxRB\n",
       "n9l3lQMLE2EgQrVoG0jZa0jHUSKWmkgI/3UJmhCzUhdmYZbzu7lg1Hia+0Bsvu/ShQFOLzvEmazu\n",
       "3i21Nyrs87ErTUX49e73L9fPBko7Ojm7j7Q1iJ3XbWQs7wwYef/C1vhToacYlZyqqDxkZLf5GhER\n",
       "FNoYrwFRTHYOMveN4v73ceK1SF+IluwrJHzIduEUOVTl1i/vgn9qytQkTGDMsnmi5eewvcO7W89R\n",
       "0dGsTF2anU+zU7rdDDlZyJC6SjSS1phif8JFmqixWl88fSYnn+x+91nAeN3C72JYfpEtXaoYjlKZ\n",
       "Q0oIp1dFysF1nGIxfvrWIFaozPlUnTQINGRgU9gTjgAAAdxBmylJ4Q8mUwII//61KoABMaRznQi+\n",
       "AC+vkOASbHx7J13TpOQYXnZ4IaBIfOwjHrbkGhVxrzeO2qRP0ljygP7+Rswbhan2bC5i7uvSjWIa\n",
       "Mk++ydQlMi/rMBslUpc+6M3Rc8W7IfJEKVR9iwC1ESG3jKFxgGRmkBLv6Z/VpjeWEYogElWbi/8T\n",
       "bWlY/7yNhLIsVBUr30tiVD+xIap8clhBNVcnqV87KyhHTDqZW0zZDJbE0T6wfaHO3AyK8Kh/vrt1\n",
       "To6wVGDRMdy/A5mXcUwlf//IIiuAH3rD90bxCsf+WdDMCcYLfQ/uwdITOf/iALqdqo1t/xU6zGTE\n",
       "bv/+I2aUXTer/yJAdwT0c4y4G5ZSJWmSyM1S9s1AvqO1cdvSWH/AXLM1PEYPMcy8tUceDtkCzfNn\n",
       "z8uAsCgwwlOqYvsNP/JfEMndYOHbb7rpEMjrvn+8ctvrpjTIBnkTloG+T+wEPvIsZ1E7ayYtp7+4\n",
       "CkxWXOqFhXjefgk7OXcqf8fGYtWCPMMdZl74bk7u+qc3HDRVC5BytqYC/163E3ul7dSEf/KwaohU\n",
       "ucV6muMeoF8PivVvuDx1HoTBX2ZN5voE8ttCkjsO0MwgBcUn+iD6C5NXSTwprGBw5VhGtbXCDgAA\n",
       "BHVBm01J4Q8mUwII//61KoACpk/SAA7LZE/8hhFuFl8zh5zq/wxHT3AnOxleV0y53WgQntbbTmDX\n",
       "HWcivJNDcr9/xVza8SYgB/+bBfv6NbQFKNpFITloYegB1jdRepgT83AySV2IOfbm3qkXFhgedZR3\n",
       "2dPaV3aLpaU2pwRe19QcvrN4KuAtgCxX27j/Ipm8F1wKnvsAuYuBsGe1K8RvvsTyj/REhW4ZeVi7\n",
       "WLPazLoaVOpaFtt0Y7wrXOljSittvq/61ULFVAA00OMQtaTtzH16QvSdHd+HlDigyAH3kKY2JzKA\n",
       "IJeOuWOPxUf+fyNTLxCftQE8Yxjsa4+frioS8vqUlXb0vUWj63XfAuKX1NGo6oyf0A3WbL6iFuGz\n",
       "3qGUpquepQ8F8+mUNeBw2Wwpi+llCaPMj+ckVAJntT1bqEHwf9OHenaB8urUUTcpzwpNj4WLI9EV\n",
       "gzimdR7n7XaTTY1LebwhaXNfxHYo/XPDRvOjxwgHqEI2fJqYs61JsV+DpHQYcBjiyI33537rPgS3\n",
       "nmGHVpsJ/L/QAh3c0baQd9ab/h48IyrEqDmupfYSxjISkrymVw4OR+2uVgWRy34tH9JDEW2e7308\n",
       "b6jh2AB6IQdlm2QbWdKrxenHbirfjMnlViwpx/PWHucAKJb2qdJEgVN2Gt2yw/9sA6vi86h0QVnH\n",
       "LjCBceYCE7S1tIJpek76rza+DRf/EWhQr5frpNWxQpZPzmYKc2Mdp5tV/AHlHv7s58/7kjQBTG7N\n",
       "Y7leIAJRtZrUD/wutbLNJo/Dih9T9yNa4ZCIlTovHD+nTtWHxtHssHF0SLwonRvUEE1us+qgj34W\n",
       "DE5uOkLiAAADAAXEBBz8H7K+FP4/1vorgmiW95eY3qD5j0vwkbVu229CyTqsQ77sSfqtkMuO75tX\n",
       "Wgfdz3Jp35jEKs/9OnzwCIxa6La2aYBWBWYq1aqfdzTKbfz5fwOlduOrVFzvwuBzfIr3EfV4DTOl\n",
       "wJXA0A00qjnCzhAgw/27QS6HiB/gUABxNNbgJ1Zd85YbYfk8L66VfZp+8T7bbpz4guWxLq3GRARh\n",
       "qUit6OCEatMX7bjxjQ3UdQWw+iDTA+g+Y3zeD/ducYqz2sAOTd4QGIDf6KJyYrl0mKrDrrizVOoZ\n",
       "QVoLuAz2zgXkNI8GAh4voTOPeJICK1SMwJuSNSiZSN+LS38ZjsDlEfyuecGhsajH8HdVLZXI82zF\n",
       "m5+jlUd8m8enkps85n7X/K1bV+jN3mQSsrzzD/7dMXUYqazbzDrq5cbeervGHrfkKPkwmkX8JU0k\n",
       "YO+Geg22NUbYkX+0o6/cmem56HI/RB6oBesS/myS0KNsgycp+mIOO4PXf4X+YviqlFU7jQK6Ygo+\n",
       "ehig/m/sDOEakB1wDo+vxEy4DpIOMKnaVn1hAah9xCNZmW4J9j+qNLw0jpOaLyouaz0pKplG+p1s\n",
       "Lil6Q2VFVXmeoxoctd+ZOdhgJ//Whzk+KG2t/y0+TLXXtYdfwy2mLNoD3hn9SKBxsNaTfGtmMqE+\n",
       "6HHBAAACREGfa0URPDv/AApSr15upWgA2k/rlMV+dsEl/XB9prR5M5wvCUdFFwse0ypWvSY/9cAX\n",
       "cB2dY8VYSccnQbn4p2HS/1huXbv0Pbr99g3tI6pGynAyPdJ4U853RE+NkrisjgRppd7oBpMtpmtv\n",
       "7SJzF8FJGPUpM4mJ8m/y2LDIMafoxjpSBVYfr8c5oRL+nhJdS09StrM8cWTW2b1ioWbzcHpUuVEe\n",
       "Xs81uPkPisdSLMW/EUniY3AWLn4ETg7U09LjalTwph3Q5aldvHIRlPG1wynLq+fgc0vge3MdtU0i\n",
       "tRswbJP3syBLej+X6J0d5PisEzGKE/XKfKdHaSTZTt2cdp+NRUlMxvGKPV8atjYnSI9klKji2eCX\n",
       "c2z6xmVJUov35nVA1xPdEKjHLwHV8hMzCFgTMy2ZX1GE8D+AyKFy8EH80+eN+Teen85DgqY3NyDy\n",
       "uGa4RvABbAWqwSduwBM44XblOoz39YEB4REiOyLR1YtjUoY0hv1/4c/7mB/CQQd+8udT7rJGT43W\n",
       "Y4T3s147L0rtNZ4Q46sUzgUdwYJEzLmI+GMhii5ebi4lLntevSXdFgbdCTOw7oIJB2pA9ImMr9KK\n",
       "g7YUBy3CUPBE6Z5488/0R6EbyRUQ4AzZ3D9fQFdnfRmBfynQKh7rnGvLAHL/JPVffwRzRMifTgls\n",
       "ndmHflPrmx3zFelsf1uTXytm/7RMyVpFq/6X5ngrigiWzUrva4mBL28IuAnQ7WMaBebigj0a5G5J\n",
       "6/VXu5IpMbuo2lR5TZnBMfcAAAFVAZ+KdEN/AA3SFYu8RqrJ7RojnkpnKj7qX0kTCk1mtrmiZXKQ\n",
       "AQ4faDDrK2ON+GH/D9XTRHBLr0q+jUfPAuITjyEaDKoQHpi5ERKzbMDodTI/jvYaLPZG9ItQQKiv\n",
       "XKqMJ/1gGE3INqWoqI+FRcF6QZxVCN4dYJCsTlq68vpdeVY4z1r8hHuqZVQ7mA3TdpkUoVDfD38D\n",
       "gAN4MVrukZa3wQtr5JlL/YgnVXz8pVJKG7tDYYhyu0wrNchyyqC8txol0JlBYEXtJHL7iTTyA2xQ\n",
       "duo4q6FMbU6hEktRVta6lOuU4cqkzn4P3w/EZCOfS+6MIukoDJjrwSeBfG9JHB2bTsylk9TV1BtI\n",
       "ptBYyZL2l29aKzNuY3tdByNVV5QH1k0LsabnaMrqDjddxj46HsJA7nlU3+lWR0PHE2t0y0R75tsY\n",
       "0b7Ud0crnkJBO4ADaAcOUuQ+3M8AAAHhAZ+MakN/AA6BOQ5RTxuEU8AAB133nfo8mjwmlmcnHzdL\n",
       "JTzEgEKpXq1PuZvbqG8nEzr8jPqsgWRl9AupmC44YiW4kDKW8oFrfTuu1pgmn2iVASOkTR64Xvyr\n",
       "sVJe/fhASWSL2/WtZNVSBHzAgacwccP/+iGz0Hff+n2DJt4jhIbpOs5uAlj/+1lo4Ou2/RWnmugo\n",
       "bizWpMVnDdYgp/66GdMS0UIpisxiZaxsL+dY8FIpWRfFJr+4Q7S37lalaqvXQyVOuhrTUPFk+UpJ\n",
       "ABE70/f9Jvk6x54e4GUIpm9C2cmTnkWUEOgSqYs6k2sf0qCcabT3kfsxx8e7AAgJtKnrsrMheJZd\n",
       "FXHo+Asbi5BDbbx7vCsQ7pLzyCWApCFfUPH9V9eEo2ZDiSWC2ipLKsZnp6v7T47ewc4wiPH6y5zK\n",
       "wECrG6cn0YB9KYHZbuZ7fDNhoVrml65YF67OCUvm3jLLJAulfhWSqMESRvjk31O5b6xQjTfdCh+R\n",
       "g7pBOsLWJj6/t4U7A5C+c2mPWCt9cZ1wW2PUWU8xSxYO9QUcKX5k6RuN1ppRgGeK0hkOl6JXSfs7\n",
       "51HgQrMKhtRUPk+/CQuPtR6xrdeeOv7R3xcZJUXNjNDogEAG0BTMBDF1tf7HevZcQQAABLRBm5FJ\n",
       "qEFomUwII//+tSqAD69WhAcvGfxev4fK4yKG/P5tsOkgMX/2VlNvmESSD/Lt4iRsB5XcLrey1/i7\n",
       "ijFaErXOZ0mrrjobBW11qO6D87H3VHJl55p+cKYAgju1xPpgOaejVCzPAb2PRHHnvSOHCA0s1Len\n",
       "aR/Isomt5Z7fLf8yjaIrxsGJLCOWW1P4AFP7S+fzlOMkdEBc7ptI1HVSuIXTdzJrg9kRsNmH+oqF\n",
       "xhHj9s3UNRJIuWY6JQhOT8fU9+BciooDfVYy8Y15jmIEp3XTE5S0RWDRA1hXMon3cVGYRkVGGWbJ\n",
       "fvLoD7DVNg6UUBCcXl4UAKft9ModQK4C99Vqk/UaN93ddBXDGtFXCD4Ed9UvmGOZXAUlLIMAsknU\n",
       "wKSo/WO3j+anwEh7lYoPja+0/bcHCo8+BSNpMSuopnbjWwWbiLsqc7vwSmTB3HMj2/mdWgu0l0Cm\n",
       "WSp+FMuR/NuXPJ4DsZevw8nangy13y1IphRWgQU6C4s/33MZVpSnPcR71qS2pr0xPVqeznZbih2L\n",
       "roIJ/R1QtdcEZe5oZBR1f+G8wi6vPmgpqHu3fkYhG/hnrhNKTWoyobQ1ntUuYiFkfYVhTsLzIFIV\n",
       "fsHPMtfLn/Yq03sAemc2TpPVYhuve4xnCgodjwZuMIJC+8htga04VcCBUzPGCYb01bkQq69NcpTs\n",
       "48uF6TYYZtf7oir11n8GZCbu/DUna4rAOnR/82jekmWvH43WH4LJQp8eX1pbsRUP+XBMAZ9hypUy\n",
       "GNv0HaB4vHbo0f9S2KoTeV2oKpem0yL2UpmKfQOQ0SWudmp4tmrBzZwWzVbpLlpIq4V8/sfNhncC\n",
       "6aYp3YHMiiolI/zKqSgZSxHyPJSRyxcsD4H+waJdJh8FSvAYBS/Sl+d7ofVlNmYmmlftxQ3VA2Ij\n",
       "n/MhceO7+BhBPihvke37JI+4TkYl3TJptFu3BJ3WQVLf/qcCEZc+++ArUmxHUqI/S1ZE6ktYn/W6\n",
       "cWUB/gn+lDxdpFO2ZL7JZsaEWsm7g/fzUhvNuf6oFpUSGYNDAVgvl0vyhTwciEovYEmiQQjkTMNb\n",
       "X7FR5kJqV45MaqKzHfUjMeUWP/H7h2AWndVBCiTDHHDFrdVXg7JLyv00a1nPFUDwfjkUex6KCnm7\n",
       "mVx+z9QVtVi8EeXShVPednpeD+W9fYCjwfvS/7gItPpnNQs7L6VaXvmEr8pzVdzzk5JUhSlKz6Yl\n",
       "mLHccZNnrxnJHRcU6ckxVr/zLuu8mSbl6HCeCRjpTyi1rgz/JFXI/XmvNThCfJThqt6Kf+42H18H\n",
       "9L59paCr8v54vg3FSHo07saoYtKfh53qLKVRBqasDjf2WM7tF0nkajQ8dotaQ288t7Y2xsglsgNC\n",
       "t4O2Ej7QAdIgaA4YIypkl4mKOjLVIRXrUA+0VVkxhamXXSNGT1eBVKuf5EV44o7f3uwiav/vcMvx\n",
       "Fbn8kwyvBeXbqck+quLlNS/GSBMRlVfx3jWdej4oGWta5rn4qEl5Mu0A3cT4AsIRRoEZVBDWqeUs\n",
       "3k2su51MiGrysk3Z7rWQXnAoSUN7U1lKLIjnnNJVsT8mgaL+ML8PVup5DqUtWRqXNxYiimVE7L1V\n",
       "euVhAAACcUGfr0URLDv/ABd1YC9cH2QAAdmgTJM6NExOA8M5Zq+JD5Fe2ZRNscMeVyaPMDlYAL/F\n",
       "pu2EEdkSw5mAVcN2EPIKNpsKdyN61E2ZJxnNLE0IxrJoapV0qSg58+WBwkioOm6yZnG7j4fOE70z\n",
       "5RfJ/SXjO5gRJ4BjVT6gwEgenKHp1RT8tGokYD3icc1q2+CkwZRgXO7l5JSIH6j5fOWU36Lr2aI0\n",
       "buiCe32x+PutiSnuByRSyKIQdQ+HgnKuuBYnVU1hwXJcDvuBKRtP3wqev/zQrrQR4+pLZ5+nchBv\n",
       "MeiDXzU/8wfRd2IhYKZmaXqFTT5EkUzvW5EjIu9A9dL5+BKUVMQ+XvH2TMWhVJJtWjcrilizKHNN\n",
       "/VLuH3vkILqdSPA16rYFhgoSCutGTgdzanQhNRsSoISKrQ5IsAX22+RxKpQHqWRpkFWAVOEhUZw/\n",
       "JPhrkAt95JVqUWO0Z2TuEINfYmSigCug/O/XG+txnmd0oehWMoXhlLWXLGJwTyFcvmD1buI4OnbZ\n",
       "dgJ8i1hGMOP8AAT8SSY1p7PvxtepZWzQUG9v+3LGBQR6t1jfnuqUKlD6BYrCpOd2a2BAG/vRAyRl\n",
       "eB2psv30ViHwF0GRzg9N5mZmCklzdDC1XxyOGjkux/f0Z0Xbw8bquhxiRvRa7a1Yc4gjKK1xeZnT\n",
       "xu4/PDSHwt3dXNmdn33FMWM+PGq97kKxOzSyYXA2ZVR0eVTND42btPAtEpdMZTKTOmgYPJtTAr+M\n",
       "BOUOnfu7bPheDZZYkqd5joNxW4IQnxg8Aphu2i4xqpNktwYUh8mnfL4cq/GP5QF6QPt5uCMnWlhG\n",
       "VYqPGYkAAAG9AZ/OdEN/ACC3kN5z7DJeWOXABe9Dv/g92YyFZk8YHLC3efu4sUE5pxJe4iTSMKEM\n",
       "wX0zX1qX6RMK8NfNfm4IqJAanD1nRG7BLoI5+5HHjVJcC8CoDTTOpT3poiBecAcZf5rM/wQEo1BH\n",
       "moSK1Sf514dQJAfrOPYW7SXpHDXFXOKug10vTdrboPEjfVox/eUUtERueyPkH+maitjHixiCoA6k\n",
       "oBpRl8dvsThtDCiKcKKhfKOh/NB2o4qYcYNvsOViLBILStdxwLXbbNi4tv576D3CoGp7GXb397KJ\n",
       "pRLqDu1db+Fi09D7uluViPIk0q5SMAnac1oPWsnCV2WmbcNv85giXZxIM0BOyPz4La6blsBfsqu+\n",
       "0LhcsFIGnVtHEzIyNKlfWG6RuCJOikZsM+4cMnqfKr3kvVtRET5ukLzAGQLT495pmzcshffEdQWz\n",
       "lWAymgfCda6EOojEnij4mwG4zgDrZrhvQi7EVdRpQNg6Yi6qKXo9KKdla4UDyiesXhAx62NvhITS\n",
       "13OxC4qeRL6lqTXI86VLRbUwEHh2/Ym/z8gfInbM5zdoTbTMsYZYIhKBfZj+RpacQCsAQw4pUQAA\n",
       "AacBn9BqQ38AILkZRb/BwAO0uS7qAy6UXEBOCszx6M902KQDcgKigEGlx2G8scTVk7sCdDXdz840\n",
       "qBDsN/mzmN+RLcxdcCabFDWwLSberbQfy0zXGFMA0sdYLRQki5nP1Pe2uUOfMe7h6IBcU/V+1UjD\n",
       "O2eOhhfK7xdZvdzkAvnc8iv0hJPmXTU69zVQRSdk7LtEOGd64eOHxtofSuq8SFG1EocEYCqBpUt+\n",
       "UGxXSsK2lWbk3BhMQtZKCdi1DGuLFB5RFy349pgfgfIGQ8c9ZCR7olj1jZqcIfexl7S26NTBmwkf\n",
       "QdIn8wf8vonZEn0DCfe0Qev8Pud+EXHmxwA0VF9P6DXVa2v//hOzvmBUjfbDJkGbtIyqkzv/Udcc\n",
       "zNhx4QG/ziNv2aaRDskLJ6dB321xmJ3oMKdHRDwPpoUNywrn/TLaakAt8+j5j4vNp+43pCcFbBrP\n",
       "KnVgYHZ66MB11d5Q1jf1+KdyOHEGGQy/fsChOW2RrQE6gNtmRhrN0IpI0kuB4oliRr6xTqplCVFV\n",
       "PBLlUxbVwOj3fpcrBQKCzoNLuAgaqclpEFAAAASoQZvVSahBbJlMCCH//qpVAAWTxN4ARe9u36gq\n",
       "GeoAGWOdw/0aWadHsj+fKSkt6aSLS0G+5RWt4srsRa9r3OVLXhLvEZWNKv/l66C7RGCw6ia4Hoj2\n",
       "JoCYNNsx0bpmeQb0h8vMQwUQZbBWrHe7N80I3gFpWzDL8jI7PA9d4zxCTP/E8hO/LuYxZliMF8/n\n",
       "zLtsB+EomHEo1kuyUxlnVaIZjKJVolhX6FI2iMG6wFEAPDpXFpVoS20ttIX20rBCqPN519xsCtnL\n",
       "dcfCDbtE7t+PFWRzLDPEjpsLkoSIWpxDW2xeGiB7TpTDEEYjQf/7wdtuyy7GZkSad01YgNLCwsWK\n",
       "ueTJIyZU6g77OTgqLT93uP1XaHizrWaY0rXOu0AGL41MtgBfX9C2DpS7yxQJ5mMhQcaB0Gd8qWcc\n",
       "NAs2/uu6tK/Iwfr4bm2vsKMNNp9s5pqgyw+n/TS2dA4j3x0NNMw7hGBeQWzBCNLPLRaP846U8Yzv\n",
       "KbAh65MavcpkMhxui5VtLwFjtmBWufhiANhz/TouJGL8HvIWCu9bCEMLruRb+CKbdGaYUN1AMElt\n",
       "9Xhrf8gsnJXpYeMXahMad5NqHzQmvb2ORSzkUmUR2hBLvsmJHCqsCR3L7PXAXLp9R4mw7bfu7YVG\n",
       "DUkWiTPV45HvkkCTw7tZ1xyAtNEn0lhL9La5mdz1jd/R+HO1OClPuKqg0xLMnUHWx0ETY3+GYwzM\n",
       "E2y81waOUBEHDwO3uPMRFE5OCAJXjREEn1ubI6vTleAQqxZfEd2rw2cFLiyfrDTkDwkZpoPN8+FE\n",
       "/PRhfh2CCOkGC0Kq+uN4scsgCkKbWn0kEJiRst3PPd+IsBvtDxtgEmXd+sQribY7ocrSpA0N5HKC\n",
       "5A2U1C6VAJPgFqj0ir3W6SMvX+hKqTYLSFI05stwCS8CXldsTXNvTuLuv09Mpw9hlArC3CyV+XTW\n",
       "JYUbkrSsIy7/xIy5unqmgmCRX7I987lQvlKjhLRGqZECkJsRRBvu+U/4oT6ZrWKCkHN9fN8+rRa0\n",
       "n41kVEneLti9sMvD4vpQnZfipjYKFCxNEvxRTgGsl8jANpaI2DaDhGHaX46kqaRyUzO2og7XocI7\n",
       "KeB0VXRut2lka2NGpDREcM3+D90RSkdnbE7ldSYmrZpjCDH2KL5c/A9CHtRFPgpM6Bt01L/Q3uq4\n",
       "TOwVllAqh/n4mCae4uB6ZXex2zKlfov1v/ISGJwW47jYuxkJmRk4ySwoI8cskKcHH4/xWHvqgZF7\n",
       "JJnd0axHud4Gw3+Mf8J11VpqkEIAM4JmdIrV3OFFk1w+3PHSt4BmGj5rWTMkpTPwY1JLwOVaOn5I\n",
       "jD5doLP37ZGLgnYkfHIcX/Azfi98wItEFSyR6R9fPevzCVVrcEEJhTsgDpx6U3DjYxPuhTpBPaxd\n",
       "3Z+/TszNx0baDpz0KGLTQ3bb0ZgC41ueL7qqfNr3LFTFRbqPn5JXhLdXE8PLNPXs5308my3+uob2\n",
       "+mWVnC+ZqA5qy/G5/JplaM0zg3SABGMH8W9K4KMokzKYrQBvUtFbG1NUFUQ/PIOoo4reRqjfH3n8\n",
       "iU0CZ50bhkyicODf+APUM+XxBmDY/uCcbQAAAeRBn/NFFSw7/wAXdi4Y064AQnWHb1KLW0FviF1o\n",
       "KDoWR2R//L9pVJ6Bq511z5UyV+PHuALfO7P7QZ0+2Nh3M3gjAhNcpMfyP0SJQC305iOB9G3qGTD4\n",
       "ZfqyiZX5HC6ne45FY/A6d/hnUH2gIVKZx304Omob2jbmY+SRcG2ux1EgFxZFRm4+gGqgdazCUE2O\n",
       "LF9NiA8a5vATSJ1PxERQ2ZoISyfUJzzJMnhj7oY+ai4/9a3sRb7gjia3D6wS5eZKAPITef3JdniP\n",
       "78WS79nwNJs/9QgEd857/rvzhn0HQ+2IfEJsv2JGODYH8wQncv8oA+uOLcLruOCjPjXFDOhn87yr\n",
       "clLo44H1boXOcJoGVtq6Uo3HmxShJS9SPj0XpAOrywJTUEa2T1NbHrDLkGBsCN3KF/GXaJ5jRPhg\n",
       "F9VZHuXVKHmHNNie9Yqaava1Ht1QS/B/0dzmIMuh9P5EUERs9U3Dnf0kJy9tQJfjBeHiwrkP3D17\n",
       "huaVlE0/1w539JhRNa2I0Y+EabdDjL3okg1HPqHVoAkzIERkDvAXcugULsvDq7nolT6JLX5H6OCT\n",
       "m6FKW7PZGVMk2MI7pKKeDRgXwNv3ZXsgj2jYpcQqFKO1QtVt0BRpaU7eTZ4yPWhcT1u3osQiIJGA\n",
       "AAABTAGeEnRDfwAgr7KwUHAA6+p5L1o/YqF9YWPLib0clnpiBSBLzbhCjLfyds0E6BTWiSbqq2fI\n",
       "MlebwtacIqmS7ms/+lN5jodEbFR0ehGUlsy/vLgElPJHlGdHwvw458oVXliT583xTkM/fR7bc+LI\n",
       "EC0yuD9Eh7cA5CaHSgoCOqonLtMRqg+TIIJLFHhX5NIK41t0Azr7LVh0KSPkZG2875sO1wrOkxk5\n",
       "Mu/as3fnrB1ksX9OCW9Mwjm1M2xi44ZgqX6NOSWvLN/Phv8mJaNooCvcBtZrjTy+hQqeUtDEGo2a\n",
       "h0eMItAPawy3oG0pN3Miu5pYhwWdJ8sWojuSGehKURLdfhXkQRhOBw82TaFcrcVFIWvuhjCtCl0a\n",
       "9lLqSxx1ZlHfLg0smc31iVzbsSmVA/dkQqVS8MVDKT7G9m57ZAwFBJCXWolx/pu4hYCAAAAA7AGe\n",
       "FGpDfwAgtexwUHAA7QKy7KNZi8PPIcSb2OxYLnhwzzY0HItS+oqEkqNvNUoPoDG7qFE7/FwF+zw1\n",
       "w0S8BkKcGuUGfK2ICPfx+s+h2sP2lLOf1oUjRylZefZANWw34WtBx9mrOekldvTOUSQAT+VTHyPZ\n",
       "oLbd9+uFsuS3iyqkwncPgCG1i24dS7ds23/DdQ+/d9P+K4XHZUKhOa2LSdTKAj7tE/jJIF1zhiv6\n",
       "kj/BpYOUNGmks0O8zH9yamCGLYugW2k6ty9ntxTWILVHYYbf51BeTiAHvZv1Kv8hrBBIWrqVlWxu\n",
       "J9UKIzdhAAACokGaFkmoQWyZTAgj//61KoACyk/SABxbhi4spLDlsusHlEadY1AAAnqaQjAERhrQ\n",
       "76dvFl+2UCS89tcB9OWsPDQSVjj7+IKN0INkcu6JNHMYVhuB6J1zRfz0kfu8w/zuea9QwE5fvuEW\n",
       "ARTEMlo7meZm2fqqzgJrud7SXgNAEs+uLZ3BEaT4FEjWYqkLK/u32bBsKqvQkuqGc9QkwzmcWha2\n",
       "fo7aNKsgCufOXQVyOuSEh7IvAMWV2pm8axepJ8EIn+SHJEWUbRc7/Jx4ZUFGu6tKrXllxmyWr16P\n",
       "ndOBI4o1uyIwTPQ+jokycoDAuPJCeTP1rjF/BGeWCS5z4j0IvDWQ3Yxvq0VMnF8flPiOLIa4zDHI\n",
       "nDdY6ZIepaYUD3rgBx5IGhZt6IPAraLWNov5rDMCorAXbfXQYRPrcyXlIgPJYNkhTIY64RvqW9Bx\n",
       "TxwwZlGCcdN3z8yyCp9ZQKCeBNNCJ7DwUTrkzhxkG2Ydw7mXWVEt8shIA7hFTcPcslHHovokfyRn\n",
       "UvUf/jz0OdZFbYoH1nTYCiAds0Jc0DuQK/+CYgAcEGVCMjHZjY4EkRBoiWth0x8Cw3Rs3OzdHAbw\n",
       "/kfrWfutSRY+wmiG8S1ZniRVcSf5wI+1Lphz7OCLta1zPW6baYed8BSGzVp0DObLpVzOFv1kSAY1\n",
       "CJikivvVvwxc3KQNIJZsjbmP5vJJWUmAT2Ygya5I+EufaH4uoKbdI5oYQ/fWx+G2ePH4mSgfoVv/\n",
       "z4h+0I0Z8rJOV0og/pIAi7vHv21nJ2mhe9uXdHvdznAV+R89GKEO3eSBIWhFnhLimq7sbqytvCGI\n",
       "9Gyks4EhaPymasuxJMsUMXD9SNYpISJZBgUxSPobcJwqo7ZkFeoSZAXCrQtQIyLWJcVkIBBXUx5g\n",
       "AAADe0GaOknhClJlMCCP//61KoACy5Hv+eWAF0rbc1GlS1sg/DH4YuLXDgjDMPvhOSHho7hi0smy\n",
       "WGig9yOkT5FneBM/+u4EXguPbklogp19vZ0xtMZg16C1rGf/tUTfZA7wOpW3p2kM7BXrjQ8Xi6D3\n",
       "0/TDljFAj5G9VNmZ6A9s6cUcap9zMhFKzRbOy+jAX3NTC5LOrjXlhLqyHL5eUboz0N47Fn+FSe2X\n",
       "SQ5fpA4+F8Hhs18w7HfHlM15uIJu6L9Yy0VcFPODngqGdLnTVBIsJ9ENPK32Op2uzXXoPLeas4VZ\n",
       "I/hM0TS1linoDfI1DAXMoZ5ij0lHKx+iTs7BDPiouk0HhQor3j7UF/7/K4VdT1zH9eEjlK96yUS4\n",
       "rGDGZPp/1HQaq1g+7YLY3xmMRMEWULi72pbN7LKIWEvUPmYJMoHY9lv90js2poC9A2xp/6K7K8Pu\n",
       "tzuve8QVpye/mQcTak3bLa7HeOFaDEVizbJF0WhzLeGu9RTu5VSZCasrPRuAPMsboMc5ot9OEE8Z\n",
       "9PTer2NIVH4SigMSU00Y8uQaLdLIk0bl5hRqFDDm0Wc3JA8eQqYxU3PHcw+8UaUXwofShjgSCqgr\n",
       "lL8KKP1OWbJAM3oKQD6KJkSBCNh970qhoh6ZL+jbHUHVyRMvnhezdLXkt+w6IkpAy0svT8ylTPVC\n",
       "BzlsGiC4Ymv0xHmxwIk45eqowwP/7F5BldjIT/OXUiQTLeHF10GjuxtFEn5OlMTXQW+sjjPjQtF1\n",
       "dnJnTnpTtJuHy+yse64zCRzFHVzngKFo0rA3oDimjNFcU1LxjFKWgFDy5jLNxmowda6d4WXECB0y\n",
       "eaDY77nPf5j8mcDqYsLxksXlzM2soCGuWb4ky915hcvVsY8R0D3aFCeeoYHZJGSDsdKUp8doa/ZI\n",
       "5jv5Fuu7UB7mc96Vzy58GGv5xV8TGd1zzo6VgbKvG7JsrYT7C8kLPTrIyxtuCQvoHi34gYpDIv8g\n",
       "DlLDTLX9cBs0lZKGN2kb6AyAsD0S6wc41wN3mUYmJw7A8yEOq+jO4poQcVAFKMWjRH9Y732oFwBT\n",
       "ENwd9VcMbNMuG4CmMjjXL7n6RLtDeQJIaqYHnAAzjWBZbM0bQKMVphSPPDf7eqWX2TXJzOwZ4K6t\n",
       "9uXWneBUAt2ZmBwe7yzRof/0m8zcJvCjJU1DS5Zfonyh2lR3EQAHpQAAAP1BnlhFNEw7/wAXdi4e\n",
       "oPE68DST+Hhfy5ABtYzjIiaipPk+LLy2705v+5Kk2sWupdwZlnIhlRQ47gu3MrSqMvw0B+hlTxZD\n",
       "UGBDnIbpplRbUbf+Q7merWjKv3giQc8DHi+wEPZth+Xp+ed+jSbv6FUnAJz+Z91CLPUFSEbQJM2O\n",
       "LujTQ3bakWORAWQAehuU+aLsU1rD/YAhbDCpnrBJapH6vjgoQGddtiCDK60UesrOpgTswXVnBTkf\n",
       "U2rqg1k/av5XSayBljglCDiYrv6mZFMjj5bUEkKjFyN+xvKEUTVObER1P09p0xQSHdvPYjLZrOrF\n",
       "tLcQU/Ho32H/hqDDAAAAfwGed3RDfwAgr7KpVTepCAA4h+afsCikhZq8hkRREidAGKsa98mx4SSQ\n",
       "Nre77PbO1waW2HicbCOi0yI6fs/57ERDLWHDXRo5Lcc1NEKNFalOhRH71C/mhpmUhLxi/8bvjvJC\n",
       "ckO1wZXs3lcoHGwf/2auW9yYNjMUHLBfAZ5QtO4AAABMAZ55akN/ACC17HAXIADs5O0hCkTjWOFm\n",
       "/crGfKR2SD+6IBr7Fz88p8iWYVDDXn3kXpi1J6LaZNno+QEkDcC0quFtHKLPgMWEvBXRAQAAAdFB\n",
       "mn5JqEFomUwII//+tSqAAsuWKzEAJau5HABMq5sJ7pEhRjAKufdbSwjrcsB/7FJL3jO4u9iO7sqA\n",
       "7mCtaqbXrTjK+DrhHQZQK6XJtHNsBeJX3TGnU+OHnDg7+xO/keKpubM9lwsAaEqipWoAOK7k1ZRv\n",
       "rHHg+JPFkgzMOuCiXtCub/tvO3sTaZKkBIZ3/s9ddZSZH1G/HJy8FaLzRK8V9zB66zThV3p1RXvn\n",
       "lKisP4ch9tVuAj+ALHpAkGPdy8dAvzuJ6nLTusANrmPX+8y2+5V3X7tnTlzclJghfGfAh9FaKmNV\n",
       "4FcelkhcDHvLZBqEuOE5MM4MRLsFL9Sz4JkglFqy77NiZjtzZtGeautu5LLotTnm+8C38J8UaAS8\n",
       "I6U7qIL67pr+8KO9SEpdJDAQRVuJr/vnMSUx4lYaqvVdEk6RCjjZ0ftllD3lj5rBE5LloamZRHGH\n",
       "9nv6Wi1Ft90wLgF3T8c57QucECavc4IAxlOo5zKAJdhHyzNdIpNRDmXAglIsVg+7qwvaIHX3IvjK\n",
       "vXWWaBCXox2j25aVhu0aHdRcXFfjVHAzdXu4YB82Px4p3c0z47jMushu7ys3eI9T8a4UFgr094s5\n",
       "B+FVXjOACLgAAACUQZ6cRREsO/8AF3cMHqVjTBvfvQATr0q/VekdqnP+Vtu/Owesb+K7topi/wiB\n",
       "4ugWUoMDPT/oZX49smRMnhmkLKcoMW87393+wZxXv2O6mIjHXaeGV1MLEAbGF3PByvuqs26Obptk\n",
       "X8pvRVLe55VaBSzyPkfV593vUltkxvmJnE0d3N3QzrcvmDlF0HV4XgBOR3xcQQAAACIBnrt0Q38A\n",
       "Dy6gK3zVD4NF9wd/bljlQygEABAwBqD77VQhAAAAIgGevWpDfwAHsVVMT2lwc1M8GsH3S1nI/Kdk\n",
       "A8gJhmpIl4AAAAE0QZqiSahBbJlMCCH//qpVAAWTSXcAE7fMLWzVkh3XsD55FIOAvLrNv0K0MuDA\n",
       "BYeSTMmjcVgfAflsow40EKD64jRqBflRpB1tIFHeFJFqdQeFJAk0zThl2gn1HnS3d338ISvFSUns\n",
       "pk2+CAsVoYq4JTE9jsoRBJFOYZ/XcUjSGywWj4qJJaZNqOS1zZQzmKaYPblaj4EoQhsGM9Qzpqog\n",
       "Pev6JjnlJIrM/62VoCRft3dHcLExNqu4+Vp+7RPLwgiqlD5dCuZ/OEJf8RO7sMz1nim6flpNVAu3\n",
       "KPxX7h+sMyxNBDrbXMXyOHv2c0a4FoEqBdAdjoCbHtw8ST94oY/rbXMznRktbbShyOMkSS821Fvr\n",
       "PKRBXCMcP9efA0b5IyA+cdKjFLCs1va68BjA6zaSdlAARcAAAABCQZ7ARRUsO/8ACp+agAhGW453\n",
       "Fc3Jh/1AH6gT1D0ZyRVA7x/RGsBcx0cGNNCuxHAaerq2Vw+9l3fbA9CFwnuPKGRBAAAALgGe/3RD\n",
       "fwAHsVU8HsyJolncre5oxID75MNWPCEfztNMTRUYeqAXx4vPXVB6XSgAAAAwAZ7hakN/AAexVUL5\n",
       "CfefCzuVvuHQiENat06ser19u4bUj7Q2irXsE4WInDWRT+6VAAAAvkGa5kmoQWyZTAh3//6plgAV\n",
       "xYa/0AEP10jSzKbjk72v/6ESbE9jbgqXA6y2QTX1JJg6acaxnUVx8HLJOMJl271Y4oYjDvvpk2Bg\n",
       "ct6129oDw3PhQADVf8MwOgRBnc4KBfiTmE/6pJjGWfdfLvj3bum/+UYGSGp98GIFrNHCMQoIquPO\n",
       "6kRD5nXoDSeWXI6N1PQhTNDhmHV7kpvTzVVqcOJDaxCuEe48f0YPnLh63R9YdXsMV1W913y22GEA\n",
       "EXAAAAA2QZ8ERRUsO/8ABYcYPJUdX6rNPcoYf3VG7jDTwzIRmNbjkIgUYlwxhojZeF5KxFVR4lPT\n",
       "GIs/AAAAIAGfI3RDfwAHw0+gm+pQWjT5nmGmd0j0lgYGkRSvwZ/FAAAAIAGfJWpDfwAHxKMwjkLX\n",
       "Dvmy5QR8cyYSi8ARvwsCQlDJAAAAJEGbJ0moQWyZTAhv//6nhAAFG29YABEIPsIHHBdsMZNjwACy\n",
       "gQAABMdtb292AAAAbG12aGQAAAAAAAAAAAAAAAAAAAPoAAAPoAABAAABAAAAAAAAAAAAAAAAAQAA\n",
       "AAAAAAAAAAAAAAAAAAEAAAAAAAAAAAAAAAAAAEAAAAAAAAAAAAAAAAAAAAAAAAAAAAAAAAAAAAAA\n",
       "AAACAAAD8XRyYWsAAABcdGtoZAAAAAMAAAAAAAAAAAAAAAEAAAAAAAAPoAAAAAAAAAAAAAAAAAAA\n",
       "AAAAAQAAAAAAAAAAAAAAAAAAAAEAAAAAAAAAAAAAAAAAAEAAAAAB9AAAAZAAAAAAACRlZHRzAAAA\n",
       "HGVsc3QAAAAAAAAAAQAAD6AAAAgAAAEAAAAAA2ltZGlhAAAAIG1kaGQAAAAAAAAAAAAAAAAAACgA\n",
       "AACgAFXEAAAAAAAtaGRscgAAAAAAAAAAdmlkZQAAAAAAAAAAAAAAAFZpZGVvSGFuZGxlcgAAAAMU\n",
       "bWluZgAAABR2bWhkAAAAAQAAAAAAAAAAAAAAJGRpbmYAAAAcZHJlZgAAAAAAAAABAAAADHVybCAA\n",
       "AAABAAAC1HN0YmwAAAC0c3RzZAAAAAAAAAABAAAApGF2YzEAAAAAAAAAAQAAAAAAAAAAAAAAAAAA\n",
       "AAAB9AGQAEgAAABIAAAAAAAAAAEAAAAAAAAAAAAAAAAAAAAAAAAAAAAAAAAAAAAAAAAAAAAY//8A\n",
       "AAAyYXZjQwFkABb/4QAZZ2QAFqzZQIAz5+EAAAMAAQAAAwAUDxYtlgEABmjr48siwAAAABx1dWlk\n",
       "a2hA8l8kT8W6OaUbzwMj8wAAAAAAAAAYc3R0cwAAAAAAAAABAAAAKAAABAAAAAAUc3RzcwAAAAAA\n",
       "AAABAAAAAQAAAQhjdHRzAAAAAAAAAB8AAAAKAAAIAAAAAAEAABQAAAAAAQAACAAAAAABAAAAAAAA\n",
       "AAEAAAQAAAAAAQAAFAAAAAABAAAIAAAAAAEAAAAAAAAAAQAABAAAAAABAAAUAAAAAAEAAAgAAAAA\n",
       "AQAAAAAAAAABAAAEAAAAAAEAAAgAAAAAAQAAFAAAAAABAAAIAAAAAAEAAAAAAAAAAQAABAAAAAAB\n",
       "AAAUAAAAAAEAAAgAAAAAAQAAAAAAAAABAAAEAAAAAAEAABQAAAAAAQAACAAAAAABAAAAAAAAAAEA\n",
       "AAQAAAAAAQAAFAAAAAABAAAIAAAAAAEAAAAAAAAAAQAABAAAAAABAAAIAAAAABxzdHNjAAAAAAAA\n",
       "AAEAAAABAAAAKAAAAAEAAAC0c3RzegAAAAAAAAAAAAAAKAAAF1IAAAInAAACtAAAA3YAAAJnAAAC\n",
       "CgAAAdUAAAGCAAAB8gAAAeAAAAR5AAACSAAAAVkAAAHlAAAEuAAAAnUAAAHBAAABqwAABKwAAAHo\n",
       "AAABUAAAAPAAAAKmAAADfwAAAQEAAACDAAAAUAAAAdUAAACYAAAAJgAAACYAAAE4AAAARgAAADIA\n",
       "AAA0AAAAwgAAADoAAAAkAAAAJAAAACgAAAAUc3RjbwAAAAAAAAABAAAALAAAAGJ1ZHRhAAAAWm1l\n",
       "dGEAAAAAAAAAIWhkbHIAAAAAAAAAAG1kaXJhcHBsAAAAAAAAAAAAAAAALWlsc3QAAAAlqXRvbwAA\n",
       "AB1kYXRhAAAAAQAAAABMYXZmNTYuNDAuMTAx\n",
       "\">\n",
       "  Your browser does not support the video tag.\n",
       "</video>"
      ],
      "text/plain": [
       "<matplotlib.animation.FuncAnimation at 0x7f982fb2ebd0>"
      ]
     },
     "execution_count": 12,
     "metadata": {},
     "output_type": "execute_result"
    }
   ],
   "source": [
    "fig = plt.figure(dpi=100, figsize=(5, 4))\n",
    "plt.scatter(x,y)\n",
    "line, = plt.plot(x,lin(a_guess,b_guess,x))\n",
    "plt.close()\n",
    "\n",
    "def animate(i):\n",
    "    line.set_ydata(lin(a_guess,b_guess,x))\n",
    "    for i in range(10): upd()\n",
    "    return line,\n",
    "\n",
    "ani = animation.FuncAnimation(fig, animate, np.arange(0, 40), interval=100)\n",
    "ani"
   ]
  },
  {
   "cell_type": "code",
   "execution_count": null,
   "metadata": {
    "collapsed": true
   },
   "outputs": [],
   "source": []
  }
 ],
 "metadata": {
  "anaconda-cloud": {},
  "kernelspec": {
   "display_name": "Python [default]",
   "language": "python",
   "name": "python2"
  },
  "language_info": {
   "codemirror_mode": {
    "name": "ipython",
    "version": 2
   },
   "file_extension": ".py",
   "mimetype": "text/x-python",
   "name": "python",
   "nbconvert_exporter": "python",
   "pygments_lexer": "ipython2",
   "version": "2.7.12"
  },
  "nav_menu": {},
  "toc": {
   "navigate_menu": true,
   "number_sections": true,
   "sideBar": true,
   "threshold": 6,
   "toc_cell": true,
   "toc_section_display": "block",
   "toc_window_display": false
  }
 },
 "nbformat": 4,
 "nbformat_minor": 0
}
